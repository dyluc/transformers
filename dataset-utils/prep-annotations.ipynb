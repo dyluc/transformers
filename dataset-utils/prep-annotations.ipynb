{
 "cells": [
  {
   "cell_type": "code",
   "execution_count": 2,
   "id": "08838e47-4076-4c99-b768-58f036b6c4ef",
   "metadata": {},
   "outputs": [
    {
     "name": "stdout",
     "output_type": "stream",
     "text": [
      "Examples in train2017: 579184.\n",
      "All filenames, category & image ids match.\n",
      "File write finished.\n"
     ]
    }
   ],
   "source": [
    "import json\n",
    "import tensorflow as tf\n",
    "\n",
    "def process_and_save_json(dataset_type):\n",
    "    with open(f\"./train_val2017/{dataset_type}.json\", \"r\") as f:\n",
    "        dataset = json.load(f)\n",
    "    \n",
    "    images = dataset[\"images\"]\n",
    "    annotations = dataset[\"annotations\"]\n",
    "    categories = dataset[\"categories\"]\n",
    "    \n",
    "    assert len(images) == len(annotations)\n",
    "    print(f\"Examples in {dataset_type}: {len(images)}.\")\n",
    "    \n",
    "    # category dict for lookup\n",
    "    cat_dict = {}\n",
    "    for category in categories:\n",
    "        cat_dict[category[\"id\"]] = f\"{category[\"supercategory\"]}/{category[\"name\"]}\"\n",
    "        \n",
    "    example_annotations = []\n",
    "    for i in range(len(images)):\n",
    "        file_name = images[i][\"file_name\"]\n",
    "        category_id = annotations[i][\"category_id\"]    \n",
    "        example = {\n",
    "            \"file_name\": file_name,\n",
    "            \"category_id\": category_id,\n",
    "        }\n",
    "        example_annotations.append(example)\n",
    "    \n",
    "    # quick final validation\n",
    "    assert len(example_annotations) == len(images)\n",
    "    for i, example in enumerate(example_annotations):\n",
    "        assert example[\"file_name\"] == images[i][\"file_name\"]\n",
    "        assert example[\"category_id\"] == annotations[i][\"category_id\"]\n",
    "        assert images[i][\"id\"] == annotations[i][\"image_id\"]\n",
    "    \n",
    "    print(\"All filenames, category & image ids match.\")\n",
    "        \n",
    "    # with open(f\"./train_val2017/{dataset_type}-processed.json\", \"w\") as f:\n",
    "    #     json.dump(example_annotations, f)\n",
    "\n",
    "    with open(f\"./train_val2017/categories.json\", \"w\") as f:\n",
    "        json.dump(cat_dict, f)\n",
    "    \n",
    "    print(\"File write finished.\")\n",
    "\n",
    "# process dataset annotations into more convenient files\n",
    "dataset_type = \"train2017\"\n",
    "process_and_save_json(dataset_type)"
   ]
  },
  {
   "cell_type": "code",
   "execution_count": null,
   "id": "c96a7019-f9e4-4595-8182-9ac0d840bde8",
   "metadata": {},
   "outputs": [],
   "source": []
  }
 ],
 "metadata": {
  "kernelspec": {
   "display_name": "Python 3 (ipykernel)",
   "language": "python",
   "name": "python3"
  },
  "language_info": {
   "codemirror_mode": {
    "name": "ipython",
    "version": 3
   },
   "file_extension": ".py",
   "mimetype": "text/x-python",
   "name": "python",
   "nbconvert_exporter": "python",
   "pygments_lexer": "ipython3",
   "version": "3.12.7"
  }
 },
 "nbformat": 4,
 "nbformat_minor": 5
}
