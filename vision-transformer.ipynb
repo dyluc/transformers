{
 "cells": [
  {
   "cell_type": "markdown",
   "id": "f7fbf95322f5a14b",
   "metadata": {
    "collapsed": false,
    "jupyter": {
     "outputs_hidden": false
    }
   },
   "source": [
    "# Vision Transformers\n",
    "\n",
    "1. Reshape input image into sequence of flattened 2d patches.\n",
    "2. Pass flattened patches through trainable linear projection to obtain D dimensions. This output is called the patch embeddings. We will then prepend / concatenate a learnable [class] token to the entire sequence of patch embeddings.\n",
    "4. Add to each patch embedding the positional embedding (element-wise) to represent the patch position in the sequence (learnable 1D embeddings).\n",
    "5. Pass embedded patches through transformer encoder consisting of multiple layers of multi head attention and MLP blocks. Encoder is slightly modified, moving the layer normalization before the multi head self attention and MLP layers (see diagram in paper).\n",
    "6. Pass encoder output for the [class] token embedding to a classification head (feed forward MLP) to obtain the class probabilities (using softmax). Prior to passing through the classification head, the output may first be passed through another normalization layer.\n",
    "\n",
    "The encoder applies self attention across the patch embeddings and the [class] token. The [class] token interacts with all patch embeddings, learning to aggregate global information about the image as the encoder processes the sequence.\n",
    "\n",
    "The encoder output corresponding to the [class] token is fed through an optional normalization layer, and then a classification head (an MLP  using GELU activations). The MLP:\n",
    "- During pre-training: is a two layer feed forward network with one hidden layer and one linear layer (for more expressive learning)\n",
    "- During fine-tuning: is a single linear layer (reducing complexity, to avoid over-fitting on smaller datasets)\n",
    "\n",
    "![vision-transformer](vision-transformer.png)"
   ]
  },
  {
   "cell_type": "markdown",
   "id": "2ef00f3e-5419-489d-bfce-576ba16e46fa",
   "metadata": {},
   "source": [
    "# Data Exploration\n",
    "\n",
    "We'll take a smaller dataset for data exploration and experimenting with the vision transformer architecture. This dataset is CIFAR-10, a collection of 60,000 color images with 10 classes (6k images per class, images are 32x32 in RGB format). There are 50,000 training and 10,000 test images."
   ]
  },
  {
   "cell_type": "code",
   "execution_count": 3,
   "id": "e7997447-9508-44e9-818a-0d66a63fc259",
   "metadata": {
    "execution": {
     "iopub.execute_input": "2024-11-26T08:28:13.016422Z",
     "iopub.status.busy": "2024-11-26T08:28:13.016082Z",
     "iopub.status.idle": "2024-11-26T08:28:13.020408Z",
     "shell.execute_reply": "2024-11-26T08:28:13.019840Z",
     "shell.execute_reply.started": "2024-11-26T08:28:13.016400Z"
    }
   },
   "outputs": [
    {
     "data": {
      "text/plain": [
       "[PhysicalDevice(name='/physical_device:GPU:0', device_type='GPU')]"
      ]
     },
     "execution_count": 3,
     "metadata": {},
     "output_type": "execute_result"
    }
   ],
   "source": [
    "import tensorflow as tf\n",
    "tf.config.list_physical_devices('GPU')"
   ]
  },
  {
   "cell_type": "code",
   "execution_count": 5,
   "id": "265a8a677dceaf32",
   "metadata": {
    "collapsed": false,
    "execution": {
     "iopub.execute_input": "2024-11-26T08:30:18.417542Z",
     "iopub.status.busy": "2024-11-26T08:30:18.417173Z",
     "iopub.status.idle": "2024-11-26T08:31:01.255200Z",
     "shell.execute_reply": "2024-11-26T08:31:01.254582Z",
     "shell.execute_reply.started": "2024-11-26T08:30:18.417518Z"
    },
    "jupyter": {
     "outputs_hidden": false
    }
   },
   "outputs": [
    {
     "name": "stderr",
     "output_type": "stream",
     "text": [
      "2024-11-26 08:30:19.969336: I external/local_tsl/tsl/platform/cloud/google_auth_provider.cc:180] Attempting an empty bearer token since no token was retrieved from files, and GCE metadata check was skipped.\n",
      "2024-11-26 08:30:20.055795: I external/local_tsl/tsl/platform/cloud/google_auth_provider.cc:180] Attempting an empty bearer token since no token was retrieved from files, and GCE metadata check was skipped.\n",
      "2024-11-26 08:30:20.151071: I external/local_tsl/tsl/platform/cloud/google_auth_provider.cc:180] Attempting an empty bearer token since no token was retrieved from files, and GCE metadata check was skipped.\n",
      "2024-11-26 08:30:20.272570: I external/local_tsl/tsl/platform/cloud/google_auth_provider.cc:180] Attempting an empty bearer token since no token was retrieved from files, and GCE metadata check was skipped.\n",
      "2024-11-26 08:30:20.458253: I external/local_tsl/tsl/platform/cloud/google_auth_provider.cc:180] Attempting an empty bearer token since no token was retrieved from files, and GCE metadata check was skipped.\n",
      "2024-11-26 08:30:20.652400: I external/local_tsl/tsl/platform/cloud/google_auth_provider.cc:180] Attempting an empty bearer token since no token was retrieved from files, and GCE metadata check was skipped.\n",
      "2024-11-26 08:30:20.829875: I external/local_tsl/tsl/platform/cloud/google_auth_provider.cc:180] Attempting an empty bearer token since no token was retrieved from files, and GCE metadata check was skipped.\n"
     ]
    },
    {
     "name": "stdout",
     "output_type": "stream",
     "text": [
      "\u001b[1mDownloading and preparing dataset 162.17 MiB (download: 162.17 MiB, generated: 132.40 MiB, total: 294.58 MiB) to /home/jovyan/tensorflow_datasets/cifar10/3.0.2...\u001b[0m\n"
     ]
    },
    {
     "name": "stderr",
     "output_type": "stream",
     "text": [
      "2024-11-26 08:30:20.925912: I external/local_tsl/tsl/platform/cloud/google_auth_provider.cc:180] Attempting an empty bearer token since no token was retrieved from files, and GCE metadata check was skipped.\n"
     ]
    },
    {
     "data": {
      "application/vnd.jupyter.widget-view+json": {
       "model_id": "83bec905cd234daf8903fc44352bb6c5",
       "version_major": 2,
       "version_minor": 0
      },
      "text/plain": [
       "Dl Completed...: 0 url [00:00, ? url/s]"
      ]
     },
     "metadata": {},
     "output_type": "display_data"
    },
    {
     "data": {
      "application/vnd.jupyter.widget-view+json": {
       "model_id": "93a97930a24242a9a410d2d5072b679b",
       "version_major": 2,
       "version_minor": 0
      },
      "text/plain": [
       "Dl Size...: 0 MiB [00:00, ? MiB/s]"
      ]
     },
     "metadata": {},
     "output_type": "display_data"
    },
    {
     "data": {
      "application/vnd.jupyter.widget-view+json": {
       "model_id": "454f241e3aaf4df2879f74c04b634b19",
       "version_major": 2,
       "version_minor": 0
      },
      "text/plain": [
       "Extraction completed...: 0 file [00:00, ? file/s]"
      ]
     },
     "metadata": {},
     "output_type": "display_data"
    },
    {
     "data": {
      "application/vnd.jupyter.widget-view+json": {
       "model_id": "",
       "version_major": 2,
       "version_minor": 0
      },
      "text/plain": [
       "Generating splits...:   0%|          | 0/2 [00:00<?, ? splits/s]"
      ]
     },
     "metadata": {},
     "output_type": "display_data"
    },
    {
     "data": {
      "application/vnd.jupyter.widget-view+json": {
       "model_id": "",
       "version_major": 2,
       "version_minor": 0
      },
      "text/plain": [
       "Generating train examples...:   0%|          | 0/50000 [00:00<?, ? examples/s]"
      ]
     },
     "metadata": {},
     "output_type": "display_data"
    },
    {
     "name": "stderr",
     "output_type": "stream",
     "text": [
      "I0000 00:00:1732609825.565063     159 cuda_executor.cc:1015] successful NUMA node read from SysFS had negative value (-1), but there must be at least one NUMA node, so returning NUMA node zero. See more at https://github.com/torvalds/linux/blob/v6.0/Documentation/ABI/testing/sysfs-bus-pci#L344-L355\n",
      "I0000 00:00:1732609825.565358     159 cuda_executor.cc:1015] successful NUMA node read from SysFS had negative value (-1), but there must be at least one NUMA node, so returning NUMA node zero. See more at https://github.com/torvalds/linux/blob/v6.0/Documentation/ABI/testing/sysfs-bus-pci#L344-L355\n",
      "I0000 00:00:1732609825.565500     159 cuda_executor.cc:1015] successful NUMA node read from SysFS had negative value (-1), but there must be at least one NUMA node, so returning NUMA node zero. See more at https://github.com/torvalds/linux/blob/v6.0/Documentation/ABI/testing/sysfs-bus-pci#L344-L355\n",
      "I0000 00:00:1732609825.678419     159 cuda_executor.cc:1015] successful NUMA node read from SysFS had negative value (-1), but there must be at least one NUMA node, so returning NUMA node zero. See more at https://github.com/torvalds/linux/blob/v6.0/Documentation/ABI/testing/sysfs-bus-pci#L344-L355\n",
      "I0000 00:00:1732609825.678640     159 cuda_executor.cc:1015] successful NUMA node read from SysFS had negative value (-1), but there must be at least one NUMA node, so returning NUMA node zero. See more at https://github.com/torvalds/linux/blob/v6.0/Documentation/ABI/testing/sysfs-bus-pci#L344-L355\n",
      "I0000 00:00:1732609825.678789     159 cuda_executor.cc:1015] successful NUMA node read from SysFS had negative value (-1), but there must be at least one NUMA node, so returning NUMA node zero. See more at https://github.com/torvalds/linux/blob/v6.0/Documentation/ABI/testing/sysfs-bus-pci#L344-L355\n",
      "2024-11-26 08:30:25.678908: I tensorflow/core/common_runtime/gpu/gpu_device.cc:2021] Created device /job:localhost/replica:0/task:0/device:GPU:0 with 13942 MB memory:  -> device: 0, name: Tesla T4, pci bus id: 0000:00:1e.0, compute capability: 7.5\n"
     ]
    },
    {
     "data": {
      "application/vnd.jupyter.widget-view+json": {
       "model_id": "",
       "version_major": 2,
       "version_minor": 0
      },
      "text/plain": [
       "Shuffling /home/jovyan/tensorflow_datasets/cifar10/incomplete.KRZVSY_3.0.2/cifar10-train.tfrecord*...:   0%|  …"
      ]
     },
     "metadata": {},
     "output_type": "display_data"
    },
    {
     "data": {
      "application/vnd.jupyter.widget-view+json": {
       "model_id": "",
       "version_major": 2,
       "version_minor": 0
      },
      "text/plain": [
       "Generating test examples...:   0%|          | 0/10000 [00:00<?, ? examples/s]"
      ]
     },
     "metadata": {},
     "output_type": "display_data"
    },
    {
     "data": {
      "application/vnd.jupyter.widget-view+json": {
       "model_id": "",
       "version_major": 2,
       "version_minor": 0
      },
      "text/plain": [
       "Shuffling /home/jovyan/tensorflow_datasets/cifar10/incomplete.KRZVSY_3.0.2/cifar10-test.tfrecord*...:   0%|   …"
      ]
     },
     "metadata": {},
     "output_type": "display_data"
    },
    {
     "name": "stdout",
     "output_type": "stream",
     "text": [
      "\u001b[1mDataset cifar10 downloaded and prepared to /home/jovyan/tensorflow_datasets/cifar10/3.0.2. Subsequent calls will reuse this data.\u001b[0m\n"
     ]
    },
    {
     "name": "stderr",
     "output_type": "stream",
     "text": [
      "2024-11-26 08:31:01.099115: W tensorflow/core/kernels/data/cache_dataset_ops.cc:913] The calling iterator did not fully read the dataset being cached. In order to avoid unexpected truncation of the dataset, the partially cached contents of the dataset  will be discarded. This can happen if you have an input pipeline similar to `dataset.cache().take(k).repeat()`. You should use `dataset.take(k).cache().repeat()` instead.\n",
      "2024-11-26 08:31:01.107703: I tensorflow/core/framework/local_rendezvous.cc:404] Local rendezvous is aborting with status: OUT_OF_RANGE: End of sequence\n"
     ]
    },
    {
     "data": {
      "image/png": "[encoded data removed]",
      "text/plain": [
       "<Figure size 1000x500 with 5 Axes>"
      ]
     },
     "metadata": {},
     "output_type": "display_data"
    }
   ],
   "source": [
    "import tensorflow_datasets as tfds\n",
    "import matplotlib.pyplot as plt\n",
    "import os\n",
    "\n",
    "os.environ[\"NO_GCE_CHECK\"] = \"true\"\n",
    "\n",
    "# Load dataset\n",
    "dataset, info = tfds.load(\"cifar10\", with_info=True, as_supervised=True, data_dir=\"~/tensorflow_datasets/\")\n",
    "train_dataset, test_dataset = dataset[\"train\"], dataset[\"test\"]\n",
    "\n",
    "# CIFAR-10 label names\n",
    "label_names = info.features[\"label\"].int2str\n",
    "\n",
    "# Display a few images, these are stored as image tensors with shape (32, 32, 3) / (height, width, channels)\n",
    "plt.figure(figsize=(10, 5))\n",
    "for i, (image, label) in enumerate(train_dataset.take(5)):\n",
    "    plt.subplot(1, 5, i+1)\n",
    "    plt.imshow(image)\n",
    "    plt.title(label_names(label))\n",
    "    plt.axis('off')\n",
    "plt.show()"
   ]
  },
  {
   "cell_type": "markdown",
   "id": "6cff5e6a-f9ec-492b-bd0d-d96396e8fc93",
   "metadata": {},
   "source": [
    "# 1. Reshape and Flatten Images \n",
    "\n",
    "This step involves first reshaping each input image into a sequence of flattened 2D patches. The layers will be designed flexibly, handling variable image input sizes and configurable patch sizes."
   ]
  },
  {
   "cell_type": "code",
   "execution_count": 6,
   "id": "efbf7389-26dd-4f9b-81ca-76d90edeafce",
   "metadata": {
    "execution": {
     "iopub.execute_input": "2024-11-26T08:31:14.069542Z",
     "iopub.status.busy": "2024-11-26T08:31:14.069203Z",
     "iopub.status.idle": "2024-11-26T08:31:14.115161Z",
     "shell.execute_reply": "2024-11-26T08:31:14.114641Z",
     "shell.execute_reply.started": "2024-11-26T08:31:14.069519Z"
    }
   },
   "outputs": [],
   "source": [
    "import tensorflow as tf\n",
    "\n",
    "class PatchConverter(tf.keras.layers.Layer):\n",
    "    def __init__(self, patch_size, **kwargs):\n",
    "        super().__init__(**kwargs)\n",
    "        self.patch_size = patch_size\n",
    "\n",
    "    def call(self, images):\n",
    "        batch_size = tf.shape(images)[0] # get shape of input image tensor and extract batch size\n",
    "        patches = tf.image.extract_patches( # similar to applying a convolution, extracting patches from the image\n",
    "            images=images,\n",
    "            sizes=[1, self.patch_size, self.patch_size, 1],\n",
    "            strides=[1, self.patch_size, self.patch_size, 1],\n",
    "            rates=[1, 1, 1, 1], # sampling rate set to 1 (no dilation)\n",
    "            padding=\"VALID\"\n",
    "        )\n",
    "        patch_dim = patches.shape[-1] # last dimension of patches is the flattened patch size (e.g. 4x4 patches is 48 - 4x4x3)\n",
    "        patches = tf.reshape(patches, [batch_size, -1, patch_dim]) # reshape patches into 3D tensor of shape [batch_size, total patches per image, flattened patch size]\n",
    "        return patches"
   ]
  },
  {
   "cell_type": "markdown",
   "id": "5530a82b-c35f-4bd5-a528-f9ffd495d441",
   "metadata": {},
   "source": [
    "Using the CIFAR-10 image dimensions (32x32), and a patch size of 4 as an example, we use `tf.image.extract_patches` to extract a grid of 8x8 non-overlapping patches for each image. Each patch contains 4x4x3=48 values. The output here is a 4D tensor of shape [batch_size, 8, 8, 48]. Though the ViT expects a sequence of flattened patches, so `tf.reshape` converts this grid of patches to a sequence with shape [batch_size, 64, 48] to be used for the next step; the patch embedding layer."
   ]
  },
  {
   "cell_type": "markdown",
   "id": "3c04eb10-7bd9-471f-a5c2-7ec06bbe6c6f",
   "metadata": {},
   "source": [
    "# 2. Patch Embeddings Through Linear Projection With Class Token\n",
    "\n",
    "The next step in the process is to pass the sequence of flattened patches through a linear projection layer to obtain D-dimensional vectors. These fixed-size embeddings allow the ViT to handle input images of any size. With these patch embeddings, we can prepend a learnable [class] token that will aggregate information from all patches and will be used by the classification head later. \n",
    "\n",
    "Through self-attention, the [class] token will attend to all other patch embeddings as it passes through multiple encoder layers, in the end becoming a global representation of the entire image. The role of the classification head is to properly interpret this representation to predict the class label. The Q, K and V matrices in each attention head determine how each patch attends to other patches in the sequence, and as these are optimized during training through gradient descent, the [class] token learns to better aggregate information from the most relevant patches to improve classification accuracy."
   ]
  },
  {
   "cell_type": "code",
   "execution_count": 7,
   "id": "be55290a-4955-43f0-88d2-4ea4f4f70f80",
   "metadata": {
    "execution": {
     "iopub.execute_input": "2024-11-26T08:31:19.122288Z",
     "iopub.status.busy": "2024-11-26T08:31:19.121943Z",
     "iopub.status.idle": "2024-11-26T08:31:19.126696Z",
     "shell.execute_reply": "2024-11-26T08:31:19.126018Z",
     "shell.execute_reply.started": "2024-11-26T08:31:19.122262Z"
    }
   },
   "outputs": [],
   "source": [
    "class PatchEmbeddingWithClassToken(tf.keras.layers.Layer):\n",
    "    def __init__(self, embedding_dim, **kwargs):\n",
    "        super().__init__(**kwargs)\n",
    "        self.embedding_layer = tf.keras.layers.Dense(embedding_dim) # a simple dense layer for projection\n",
    "        self.class_token = self.add_weight(\n",
    "            shape=(1, 1, embedding_dim),\n",
    "            initializer=\"random_normal\",\n",
    "            trainable=True,\n",
    "            name=\"class_token\"\n",
    "        )\n",
    "\n",
    "    def call(self, patches):\n",
    "        patch_embeddings = self.embedding_layer(patches)\n",
    "        batch_size = tf.shape(patch_embeddings)[0]\n",
    "        class_token = tf.broadcast_to(self.class_token, [batch_size, 1, self.class_token.shape[-1]]) # duplicate class_token to match batch size\n",
    "        return tf.concat([class_token, patch_embeddings], axis=1)"
   ]
  },
  {
   "cell_type": "markdown",
   "id": "ece15d44-a874-46fb-8bbf-f7181e39730f",
   "metadata": {},
   "source": [
    "# 3. Positional Embedding Layer\n",
    "\n",
    "Like Transformers, Vision Transformers don't preserve the inherent position of each patch within the sequence, so we similarly enrich the embeddings with the positional information. These positional embeddings will be learnable, allowing the ViT to self adapt to differing sequence lengths."
   ]
  },
  {
   "cell_type": "code",
   "execution_count": null,
   "id": "500f5b55-17ac-48cb-a446-6499c47ba6a4",
   "metadata": {
    "execution": {
     "iopub.execute_input": "2024-11-26T08:31:21.952599Z",
     "iopub.status.busy": "2024-11-26T08:31:21.952265Z",
     "iopub.status.idle": "2024-11-26T08:31:21.956546Z",
     "shell.execute_reply": "2024-11-26T08:31:21.955801Z",
     "shell.execute_reply.started": "2024-11-26T08:31:21.952576Z"
    }
   },
   "outputs": [],
   "source": [
    "class PositionalEmbedding(tf.keras.layers.Layer):\n",
    "    def __init__(self, num_patches, embedding_dim, **kwargs):\n",
    "        super().__init__(**kwargs)\n",
    "        self.position_embeddings = self.add_weight(\n",
    "            shape=(1, num_patches, embedding_dim),\n",
    "            initializer=\"random_normal\",\n",
    "            trainable=True,\n",
    "            name=\"positional_embeddings\"\n",
    "        )\n",
    "\n",
    "    def call(self, patch_embeddings):\n",
    "        embeddings = self.position_embeddings + patch_embeddings\n",
    "        return embeddings"
   ]
  },
  {
   "cell_type": "markdown",
   "id": "e5b3f17a-c2d1-4190-b9a5-cb3315262424",
   "metadata": {},
   "source": [
    "# 4. Transformer Encoder Block\n",
    "\n",
    "The encoder of the ViT is very similar to the encoder proposed in the original Transformer paper. The only adjustment involves moving the layer normalization _before_ the multi head self attention and MLP layers. We can easily stack this layer multiple times to create a deep Transformer encoder. We will similarly apply dropout to both the attention mechanism itself, and the final output of the feed forward network for extra regularization.\n",
    "\n",
    "Dropout within the attention mechanism plays a similar role to dropout applied across a fully connected network, it reduces over-reliance on specific portions of the input for improved generalization. This means some of the attention weights are randomly zeroed out, and relationships between the patches (or tokens in the case of regular Transformers) are temporarily ignored during training. Attention is spread across the inputs more evenly, and overfitting is mitigated.\n",
    "\n",
    "> **Masking Note:** Unlike sequence processing tasks typically handled by Transformer architectures, Vision Transformers have no need for padding or causal masks. This is because patch sequence lengths within the image batch are always the same, and they don't have any inherent sequential order, allowing each patch to attend to every other patch."
   ]
  },
  {
   "cell_type": "code",
   "execution_count": 9,
   "id": "73614f89-2165-4409-b35d-9b089aee63dd",
   "metadata": {
    "execution": {
     "iopub.execute_input": "2024-11-26T08:31:23.839949Z",
     "iopub.status.busy": "2024-11-26T08:31:23.839600Z",
     "iopub.status.idle": "2024-11-26T08:31:23.845563Z",
     "shell.execute_reply": "2024-11-26T08:31:23.844864Z",
     "shell.execute_reply.started": "2024-11-26T08:31:23.839926Z"
    }
   },
   "outputs": [],
   "source": [
    "class EncoderLayer(tf.keras.layers.Layer):\n",
    "    def __init__(self, num_heads, embedding_dim, mlp_dim, dropout_rate=0.1, **kwargs):\n",
    "        super().__init__(**kwargs)\n",
    "        self.attn_layer = tf.keras.layers.MultiHeadAttention(\n",
    "            num_heads=num_heads, key_dim=embedding_dim, dropout=dropout_rate\n",
    "        )\n",
    "        self.norm1 = tf.keras.layers.LayerNormalization()\n",
    "        self.norm2 = tf.keras.layers.LayerNormalization()\n",
    "        self.mlp = tf.keras.Sequential([ # can consider dropout after each of these Dense layers too (try if overfitting)\n",
    "            tf.keras.layers.Dense(mlp_dim, activation=\"gelu\"), # paper user GELU activation\n",
    "            tf.keras.layers.Dense(embedding_dim)\n",
    "        ])\n",
    "        self.dropout = tf.keras.layers.Dropout(dropout_rate)\n",
    "\n",
    "    def call(self, inputs, training=False):\n",
    "        # mutli-head attention sublayer\n",
    "        x = self.norm1(inputs)\n",
    "        x = self.attn_layer(x, value=x, training=training)\n",
    "        x = self.dropout(x, training=training)\n",
    "        x = tf.keras.layers.Add()([x, inputs])\n",
    "        \n",
    "        # mlp sublayer\n",
    "        x1 = self.norm2(x)\n",
    "        x1 = self.mlp(x1)\n",
    "        x1 = self.dropout(x1, training=training)\n",
    "        x1 = tf.keras.layers.Add()([x1, x])\n",
    "\n",
    "        return x1"
   ]
  },
  {
   "cell_type": "markdown",
   "id": "43b12d41-3d0e-4cec-aa27-ba6ac8f4ef40",
   "metadata": {},
   "source": [
    "# 5. Classification Head\n",
    "The class token can now be passed through a classification head to obtain final class probabilities. The paper mentions the following:\n",
    "\n",
    "> \"The classification head is implemented by a MLP with one hidden layer at pre-training\n",
    "time and by a single linear layer at fine-tuning time.\"  \n",
    "> — Dosovitskiy et al. (2020), Vision Transformer (ViT)\n",
    "\n",
    "Though we may not make use of this, the layer can be designed flexibly to easily accommodate for both."
   ]
  },
  {
   "cell_type": "code",
   "execution_count": 10,
   "id": "d00129e1-99c7-43de-bad6-4ef5eba129cd",
   "metadata": {
    "execution": {
     "iopub.execute_input": "2024-11-26T08:31:27.497936Z",
     "iopub.status.busy": "2024-11-26T08:31:27.497355Z",
     "iopub.status.idle": "2024-11-26T08:31:27.501903Z",
     "shell.execute_reply": "2024-11-26T08:31:27.501275Z",
     "shell.execute_reply.started": "2024-11-26T08:31:27.497912Z"
    }
   },
   "outputs": [],
   "source": [
    "class ClassificationHead(tf.keras.layers.Layer):\n",
    "    def __init__(self, num_classes, mlp_dim=None, **kwargs):\n",
    "        super().__init__(**kwargs)\n",
    "        output_layer = tf.keras.layers.Dense(num_classes, activation=\"softmax\")\n",
    "        if mlp_dim:\n",
    "            self.mlp = tf.keras.Sequential([\n",
    "                tf.keras.layers.Dense(mlp_dim, activation=\"gelu\"),\n",
    "                output_layer\n",
    "            ])\n",
    "        else:\n",
    "            self.mlp = output_layer\n",
    "\n",
    "    def call(self, class_token):\n",
    "        return self.mlp(class_token)"
   ]
  },
  {
   "cell_type": "markdown",
   "id": "7a19d07e-7844-4d98-98fa-bf7f20d942db",
   "metadata": {},
   "source": [
    "# 6. Model Assembly\n",
    "\n",
    "\n",
    "Using these layers, we can construct the Vision Transformer, where input sizes, patch sizes, number of encoder stacks, embedding dimensions are all configurable (allowing flexible use with different datasets and image sizes). A few things to note about the following:\n",
    "\n",
    "- As suggested in the paper, we can apply layer normalization to the class token embedding prior to passing it through the classification head.\n",
    "- In Tensorflow, the shapes are only determined at the point when data is passed through the model `call` method. Therefore, to know the value of `num_patches` for the `PositionalEmbedding` layer, we can rely on the explicit formula (see below). Alternatively, the Tensorflow layer `build` method can initialize the layer weights based on the input size, called the first time the layer processes data. Typical implementation for ViTs assume square images, simplifying patch conversion and calculations for positional encoding (ensure input images are square if using this ViT).\n",
    "\n",
    "$$\\text{num\\_patches} = \\left( \\frac{\\text{image\\_height}}{\\text{patch\\_size}} \\right) \\times \\left( \\frac{\\text{image\\_width}}{\\text{patch\\_size}} \\right) + 1$$\n"
   ]
  },
  {
   "cell_type": "code",
   "execution_count": 11,
   "id": "75cd8e20-737c-41ea-a1a8-e80a81ea060f",
   "metadata": {
    "execution": {
     "iopub.execute_input": "2024-11-26T08:31:31.351454Z",
     "iopub.status.busy": "2024-11-26T08:31:31.351078Z",
     "iopub.status.idle": "2024-11-26T08:31:31.356926Z",
     "shell.execute_reply": "2024-11-26T08:31:31.356189Z",
     "shell.execute_reply.started": "2024-11-26T08:31:31.351431Z"
    }
   },
   "outputs": [],
   "source": [
    "class ViT(tf.keras.Model):\n",
    "    def __init__(\n",
    "        self, \n",
    "        input_shape, \n",
    "        patch_size, \n",
    "        num_classes, \n",
    "        embedding_dim, \n",
    "        num_heads, \n",
    "        num_layers, \n",
    "        mlp_dim, \n",
    "        dropout_rate, \n",
    "        **kwargs\n",
    "    ):\n",
    "        super().__init__(**kwargs)\n",
    "        self.patch_converter = PatchConverter(patch_size)\n",
    "        self.patch_embedding_class_token = PatchEmbeddingWithClassToken(embedding_dim)\n",
    "        self.positional_embedding = PositionalEmbedding(\n",
    "            num_patches=(input_shape[0] // patch_size) ** 2 + 1, # +1 includes [class] embedding\n",
    "            embedding_dim=embedding_dim\n",
    "        )\n",
    "        self.encoder_stack = [\n",
    "            EncoderLayer(num_heads, embedding_dim, mlp_dim, dropout_rate)\n",
    "            for _ in range(num_layers)\n",
    "        ]\n",
    "        self.class_token_norm = tf.keras.layers.LayerNormalization()\n",
    "        self.classification_head = ClassificationHead(num_classes)\n",
    "\n",
    "\n",
    "    def call(self, inputs):\n",
    "        # Extract the patches and create the patch embeddings w/ class token\n",
    "        patches = self.patch_converter(inputs)\n",
    "        embeddings = self.patch_embedding_class_token(patches)\n",
    "\n",
    "        # Add positional embeddings\n",
    "        embeddings = self.positional_embedding(embeddings)\n",
    "\n",
    "        # Encoder stack\n",
    "        x = embeddings\n",
    "        for layer in self.encoder_stack:\n",
    "            x = layer(x)\n",
    "\n",
    "        # Extract and normalize the [class] token\n",
    "        class_token = x[:, 0]\n",
    "        norm_class_token = self.class_token_norm(class_token)\n",
    "\n",
    "        # Classification head\n",
    "        class_probas = self.classification_head(norm_class_token)\n",
    "        \n",
    "        return class_probas"
   ]
  },
  {
   "cell_type": "markdown",
   "id": "c504c26e-4c57-4780-b804-6936d30ab8cd",
   "metadata": {},
   "source": [
    "# Layer Output Shape Tests\n",
    "\n",
    "We can cadd some quick tests to ensure the output shape of each layer is correct for a single CIFAR-10 training image."
   ]
  },
  {
   "cell_type": "code",
   "execution_count": 12,
   "id": "43d33b12-b723-4b33-bd93-553189468b0e",
   "metadata": {
    "execution": {
     "iopub.execute_input": "2024-11-26T08:31:36.083221Z",
     "iopub.status.busy": "2024-11-26T08:31:36.082885Z",
     "iopub.status.idle": "2024-11-26T08:31:38.661690Z",
     "shell.execute_reply": "2024-11-26T08:31:38.661154Z",
     "shell.execute_reply.started": "2024-11-26T08:31:36.083199Z"
    }
   },
   "outputs": [
    {
     "name": "stderr",
     "output_type": "stream",
     "text": [
      "2024-11-26 08:31:36.133214: W tensorflow/core/kernels/data/cache_dataset_ops.cc:913] The calling iterator did not fully read the dataset being cached. In order to avoid unexpected truncation of the dataset, the partially cached contents of the dataset  will be discarded. This can happen if you have an input pipeline similar to `dataset.cache().take(k).repeat()`. You should use `dataset.take(k).cache().repeat()` instead.\n"
     ]
    },
    {
     "name": "stdout",
     "output_type": "stream",
     "text": [
      "Image shape: (1, 32, 32, 3), Label: horse\n",
      "Tests passed!\n"
     ]
    },
    {
     "name": "stderr",
     "output_type": "stream",
     "text": [
      "2024-11-26 08:31:37.702138: I tensorflow/core/framework/local_rendezvous.cc:404] Local rendezvous is aborting with status: OUT_OF_RANGE: End of sequence\n"
     ]
    }
   ],
   "source": [
    "def test_transformer_layer_output_shapes(image):\n",
    "    input_shape = (32, 32, 3) # image.shape[1:] without batch dim\n",
    "    patch_size = 4\n",
    "    embedding_dim = 64\n",
    "    num_patches = (input_shape[0] // patch_size) ** 2 + 1\n",
    "    num_heads = 4\n",
    "    mlp_dim = 128\n",
    "    dropout_rate = 0.1\n",
    "    num_classes = 10\n",
    "\n",
    "    # Patch Conversion\n",
    "    patch_converter = PatchConverter(patch_size)\n",
    "    patches = patch_converter(single_image)\n",
    "    assert patches.shape == (1, 64, 48)\n",
    "\n",
    "    # Patch Embeddings + Class Token\n",
    "    patch_embedding_with_class_token = PatchEmbeddingWithClassToken(embedding_dim)\n",
    "    embeddings = patch_embedding_with_class_token(patches)\n",
    "    assert embeddings.shape == (1, 65, 64)\n",
    "    assert num_patches == embeddings.shape[1]\n",
    "\n",
    "    # Positional Embeddings\n",
    "    positional_embedding = PositionalEmbedding(num_patches, embedding_dim)\n",
    "    embeddings = positional_embedding(embeddings)\n",
    "    assert embeddings.shape == (1, 65, 64)\n",
    "\n",
    "    # Single Encoder Layer\n",
    "    single_encoder = EncoderLayer(num_heads, embedding_dim, mlp_dim, dropout_rate)\n",
    "    encoder_output = single_encoder(embeddings)\n",
    "    assert encoder_output.shape == (1, 65, 64)\n",
    "    \n",
    "    # Class Token Norm & Classification Head\n",
    "    class_token_norm = tf.keras.layers.LayerNormalization()\n",
    "    classification_head = ClassificationHead(num_classes)\n",
    "    class_token = encoder_output[:, 0]\n",
    "    norm_class_token = class_token_norm(class_token)\n",
    "    class_probas = classification_head(norm_class_token)\n",
    "    assert class_probas.shape == (1, 10)\n",
    "\n",
    "for image, label in train_dataset.take(1):\n",
    "    single_image = tf.expand_dims(image, axis=0) # add a batch dimension\n",
    "    print(f\"Image shape: {single_image.shape}, Label: {label_names(label)}\")\n",
    "    test_transformer_layer_output_shapes(single_image)\n",
    "    print(\"Tests passed!\")"
   ]
  },
  {
   "cell_type": "markdown",
   "id": "f0d0ef0f-6081-4be9-a9e4-0e905abe8cfa",
   "metadata": {},
   "source": [
    "# Data Preprocessing for CIFAR-10\n",
    "\n",
    "Using TFDS, the CIFAR-10 dataset is already split, though we can apply further pre-processing. It's worth noting that Transformer models have fewer inductive biases than ResNets or other CNNs, and so will initially require more training data. CIFAR-10 is a small dataset but it's suited for testing and experimentation, we can later train the model from scratch on larger and larger datasets (CIFAR-100, ImageNet, etc). Further preprocessing we will apply for CIFAR-10:\n",
    "\n",
    "- Normalize / standardize input image.\n",
    "- Split training set further to obtain a validation set.\n",
    "- Shuffle, batch and prefetch.\n",
    "\n",
    "Later we will pre-train on ImageNet and fine tune on CIFAR-10 to observe differences in validation accuracy. To do that, in addition to above, our preprocessing will include:\n",
    "\n",
    "- Apply data augmentation techniques to the datasets.\n",
    "- Resize the CIFAR-10 images to ensure compatibility with architecture and pre-training with ImageNet."
   ]
  },
  {
   "cell_type": "code",
   "execution_count": 13,
   "id": "a0ccac5f-80c9-4905-8885-c5322e4a8f90",
   "metadata": {
    "execution": {
     "iopub.execute_input": "2024-11-26T08:31:47.897750Z",
     "iopub.status.busy": "2024-11-26T08:31:47.897398Z",
     "iopub.status.idle": "2024-11-26T08:31:48.252663Z",
     "shell.execute_reply": "2024-11-26T08:31:48.252001Z",
     "shell.execute_reply.started": "2024-11-26T08:31:47.897726Z"
    }
   },
   "outputs": [
    {
     "name": "stdout",
     "output_type": "stream",
     "text": [
      "Shape of images in first batch: (128, 32, 32, 3), with labels: (128,)\n"
     ]
    },
    {
     "name": "stderr",
     "output_type": "stream",
     "text": [
      "2024-11-26 08:31:48.244407: W tensorflow/core/kernels/data/cache_dataset_ops.cc:913] The calling iterator did not fully read the dataset being cached. In order to avoid unexpected truncation of the dataset, the partially cached contents of the dataset  will be discarded. This can happen if you have an input pipeline similar to `dataset.cache().take(k).repeat()`. You should use `dataset.take(k).cache().repeat()` instead.\n"
     ]
    }
   ],
   "source": [
    "def normalize_image(image, label):\n",
    "    image = tf.cast(image, tf.float32) / 127.5 - 1.0 # normalize to [-1, 1]\n",
    "    return image, label\n",
    "\n",
    "# load the training, validation and test sets\n",
    "train_set = tfds.load(\"cifar10\", split=\"train[:90%]\", as_supervised=True, data_dir=\"~/tensorflow_datasets/\") # 45,000 examples\n",
    "valid_set = tfds.load(\"cifar10\", split=\"train[90%:]\", as_supervised=True, data_dir=\"~/tensorflow_datasets/\") # 5,000 examples\n",
    "test_set = tfds.load(\"cifar10\", split=\"test\", as_supervised=True, data_dir=\"~/tensorflow_datasets/\") # 10,000 examples\n",
    "\n",
    "# shuffle, batch and prefetch\n",
    "batch_size = 128\n",
    "train_set = train_set.map(normalize_image).shuffle(1000).batch(batch_size).prefetch(tf.data.AUTOTUNE)\n",
    "valid_set = valid_set.map(normalize_image).batch(batch_size).prefetch(tf.data.AUTOTUNE)\n",
    "test_set = test_set.map(normalize_image).batch(batch_size).prefetch(tf.data.AUTOTUNE)\n",
    "\n",
    "for images, labels in train_set.take(1):\n",
    "    print(f\"Shape of images in first batch: {images.shape}, with labels: {labels.shape}\")"
   ]
  },
  {
   "cell_type": "code",
   "execution_count": 17,
   "id": "b67ea86f-7319-464b-924d-479825abfcea",
   "metadata": {
    "execution": {
     "iopub.execute_input": "2024-11-26T08:36:58.189369Z",
     "iopub.status.busy": "2024-11-26T08:36:58.189025Z",
     "iopub.status.idle": "2024-11-26T08:36:58.230437Z",
     "shell.execute_reply": "2024-11-26T08:36:58.229911Z",
     "shell.execute_reply.started": "2024-11-26T08:36:58.189345Z"
    }
   },
   "outputs": [],
   "source": [
    "# prep callbacks\n",
    "checkpoint_callback = tf.keras.callbacks.ModelCheckpoint(\n",
    "    \"checkpoints/vit_cifar10_saturncloud/vit_cifar10_epoch-{epoch:02d}.weights.h5\",\n",
    "    save_weights_only=True,\n",
    "    save_best_only=True,\n",
    "    monitor=\"val_loss\",\n",
    "    mode=\"min\",\n",
    "    verbose=1\n",
    ")\n",
    "\n",
    "early_stopping_callback = tf.keras.callbacks.EarlyStopping(\n",
    "    patience=5,\n",
    "    restore_best_weights=True,\n",
    ")\n",
    "\n",
    "# create ViT\n",
    "vit_cifar10_model = ViT(\n",
    "    input_shape=(32, 32, 3),\n",
    "    patch_size=4,\n",
    "    num_classes=10,\n",
    "    embedding_dim=64,\n",
    "    num_heads=4,\n",
    "    num_layers=4,\n",
    "    mlp_dim=128,\n",
    "    dropout_rate=0.1,\n",
    ")\n",
    "\n",
    "# compile\n",
    "vit_cifar10_model.compile(\n",
    "    optimizer=tf.keras.optimizers.Adam(learning_rate=3e-4),\n",
    "    loss=tf.keras.losses.SparseCategoricalCrossentropy(),\n",
    "    metrics=['accuracy']\n",
    ")"
   ]
  },
  {
   "cell_type": "code",
   "execution_count": 18,
   "id": "f0151e55-96ba-4e06-b5fa-2f6f53ab0128",
   "metadata": {
    "execution": {
     "iopub.execute_input": "2024-11-26T08:37:04.856745Z",
     "iopub.status.busy": "2024-11-26T08:37:04.856417Z",
     "iopub.status.idle": "2024-11-26T08:41:28.286257Z",
     "shell.execute_reply": "2024-11-26T08:41:28.285705Z",
     "shell.execute_reply.started": "2024-11-26T08:37:04.856722Z"
    }
   },
   "outputs": [
    {
     "name": "stdout",
     "output_type": "stream",
     "text": [
      "Epoch 1/30\n",
      "\u001b[1m352/352\u001b[0m \u001b[32m━━━━━━━━━━━━━━━━━━━━\u001b[0m\u001b[37m\u001b[0m \u001b[1m0s\u001b[0m 37ms/step - accuracy: 0.2793 - loss: 1.9829\n",
      "Epoch 1: val_loss improved from inf to 1.58398, saving model to checkpoints/vit_cifar10_saturncloud/vit_cifar10_epoch-01.weights.h5\n",
      "\u001b[1m352/352\u001b[0m \u001b[32m━━━━━━━━━━━━━━━━━━━━\u001b[0m\u001b[37m\u001b[0m \u001b[1m33s\u001b[0m 49ms/step - accuracy: 0.2795 - loss: 1.9825 - val_accuracy: 0.4188 - val_loss: 1.5840\n",
      "Epoch 2/30\n",
      "\u001b[1m352/352\u001b[0m \u001b[32m━━━━━━━━━━━━━━━━━━━━\u001b[0m\u001b[37m\u001b[0m \u001b[1m0s\u001b[0m 21ms/step - accuracy: 0.4484 - loss: 1.5165\n",
      "Epoch 2: val_loss improved from 1.58398 to 1.30431, saving model to checkpoints/vit_cifar10_saturncloud/vit_cifar10_epoch-02.weights.h5\n",
      "\u001b[1m352/352\u001b[0m \u001b[32m━━━━━━━━━━━━━━━━━━━━\u001b[0m\u001b[37m\u001b[0m \u001b[1m8s\u001b[0m 22ms/step - accuracy: 0.4485 - loss: 1.5163 - val_accuracy: 0.5288 - val_loss: 1.3043\n",
      "Epoch 3/30\n",
      "\u001b[1m352/352\u001b[0m \u001b[32m━━━━━━━━━━━━━━━━━━━━\u001b[0m\u001b[37m\u001b[0m \u001b[1m0s\u001b[0m 21ms/step - accuracy: 0.5369 - loss: 1.2803\n",
      "Epoch 3: val_loss improved from 1.30431 to 1.20400, saving model to checkpoints/vit_cifar10_saturncloud/vit_cifar10_epoch-03.weights.h5\n",
      "\u001b[1m352/352\u001b[0m \u001b[32m━━━━━━━━━━━━━━━━━━━━\u001b[0m\u001b[37m\u001b[0m \u001b[1m8s\u001b[0m 22ms/step - accuracy: 0.5370 - loss: 1.2802 - val_accuracy: 0.5546 - val_loss: 1.2040\n",
      "Epoch 4/30\n",
      "\u001b[1m352/352\u001b[0m \u001b[32m━━━━━━━━━━━━━━━━━━━━\u001b[0m\u001b[37m\u001b[0m \u001b[1m0s\u001b[0m 21ms/step - accuracy: 0.5760 - loss: 1.1724\n",
      "Epoch 4: val_loss improved from 1.20400 to 1.15570, saving model to checkpoints/vit_cifar10_saturncloud/vit_cifar10_epoch-04.weights.h5\n",
      "\u001b[1m352/352\u001b[0m \u001b[32m━━━━━━━━━━━━━━━━━━━━\u001b[0m\u001b[37m\u001b[0m \u001b[1m8s\u001b[0m 22ms/step - accuracy: 0.5761 - loss: 1.1723 - val_accuracy: 0.5896 - val_loss: 1.1557\n",
      "Epoch 5/30\n",
      "\u001b[1m351/352\u001b[0m \u001b[32m━━━━━━━━━━━━━━━━━━━\u001b[0m\u001b[37m━\u001b[0m \u001b[1m0s\u001b[0m 21ms/step - accuracy: 0.6092 - loss: 1.0831\n",
      "Epoch 5: val_loss improved from 1.15570 to 1.11848, saving model to checkpoints/vit_cifar10_saturncloud/vit_cifar10_epoch-05.weights.h5\n",
      "\u001b[1m352/352\u001b[0m \u001b[32m━━━━━━━━━━━━━━━━━━━━\u001b[0m\u001b[37m\u001b[0m \u001b[1m8s\u001b[0m 22ms/step - accuracy: 0.6092 - loss: 1.0830 - val_accuracy: 0.5994 - val_loss: 1.1185\n",
      "Epoch 6/30\n",
      "\u001b[1m352/352\u001b[0m \u001b[32m━━━━━━━━━━━━━━━━━━━━\u001b[0m\u001b[37m\u001b[0m \u001b[1m0s\u001b[0m 21ms/step - accuracy: 0.6351 - loss: 1.0184\n",
      "Epoch 6: val_loss improved from 1.11848 to 1.08376, saving model to checkpoints/vit_cifar10_saturncloud/vit_cifar10_epoch-06.weights.h5\n",
      "\u001b[1m352/352\u001b[0m \u001b[32m━━━━━━━━━━━━━━━━━━━━\u001b[0m\u001b[37m\u001b[0m \u001b[1m8s\u001b[0m 22ms/step - accuracy: 0.6351 - loss: 1.0184 - val_accuracy: 0.6152 - val_loss: 1.0838\n",
      "Epoch 7/30\n",
      "\u001b[1m352/352\u001b[0m \u001b[32m━━━━━━━━━━━━━━━━━━━━\u001b[0m\u001b[37m\u001b[0m \u001b[1m0s\u001b[0m 21ms/step - accuracy: 0.6590 - loss: 0.9605\n",
      "Epoch 7: val_loss improved from 1.08376 to 1.05186, saving model to checkpoints/vit_cifar10_saturncloud/vit_cifar10_epoch-07.weights.h5\n",
      "\u001b[1m352/352\u001b[0m \u001b[32m━━━━━━━━━━━━━━━━━━━━\u001b[0m\u001b[37m\u001b[0m \u001b[1m10s\u001b[0m 22ms/step - accuracy: 0.6590 - loss: 0.9605 - val_accuracy: 0.6326 - val_loss: 1.0519\n",
      "Epoch 8/30\n",
      "\u001b[1m352/352\u001b[0m \u001b[32m━━━━━━━━━━━━━━━━━━━━\u001b[0m\u001b[37m\u001b[0m \u001b[1m0s\u001b[0m 21ms/step - accuracy: 0.6754 - loss: 0.9088\n",
      "Epoch 8: val_loss improved from 1.05186 to 1.03161, saving model to checkpoints/vit_cifar10_saturncloud/vit_cifar10_epoch-08.weights.h5\n",
      "\u001b[1m352/352\u001b[0m \u001b[32m━━━━━━━━━━━━━━━━━━━━\u001b[0m\u001b[37m\u001b[0m \u001b[1m8s\u001b[0m 22ms/step - accuracy: 0.6754 - loss: 0.9088 - val_accuracy: 0.6396 - val_loss: 1.0316\n",
      "Epoch 9/30\n",
      "\u001b[1m352/352\u001b[0m \u001b[32m━━━━━━━━━━━━━━━━━━━━\u001b[0m\u001b[37m\u001b[0m \u001b[1m0s\u001b[0m 21ms/step - accuracy: 0.6914 - loss: 0.8620\n",
      "Epoch 9: val_loss improved from 1.03161 to 1.03000, saving model to checkpoints/vit_cifar10_saturncloud/vit_cifar10_epoch-09.weights.h5\n",
      "\u001b[1m352/352\u001b[0m \u001b[32m━━━━━━━━━━━━━━━━━━━━\u001b[0m\u001b[37m\u001b[0m \u001b[1m8s\u001b[0m 22ms/step - accuracy: 0.6914 - loss: 0.8620 - val_accuracy: 0.6430 - val_loss: 1.0300\n",
      "Epoch 10/30\n",
      "\u001b[1m352/352\u001b[0m \u001b[32m━━━━━━━━━━━━━━━━━━━━\u001b[0m\u001b[37m\u001b[0m \u001b[1m0s\u001b[0m 21ms/step - accuracy: 0.7092 - loss: 0.8221\n",
      "Epoch 10: val_loss did not improve from 1.03000\n",
      "\u001b[1m352/352\u001b[0m \u001b[32m━━━━━━━━━━━━━━━━━━━━\u001b[0m\u001b[37m\u001b[0m \u001b[1m8s\u001b[0m 22ms/step - accuracy: 0.7092 - loss: 0.8220 - val_accuracy: 0.6436 - val_loss: 1.0333\n",
      "Epoch 11/30\n",
      "\u001b[1m352/352\u001b[0m \u001b[32m━━━━━━━━━━━━━━━━━━━━\u001b[0m\u001b[37m\u001b[0m \u001b[1m0s\u001b[0m 21ms/step - accuracy: 0.7188 - loss: 0.7801\n",
      "Epoch 11: val_loss did not improve from 1.03000\n",
      "\u001b[1m352/352\u001b[0m \u001b[32m━━━━━━━━━━━━━━━━━━━━\u001b[0m\u001b[37m\u001b[0m \u001b[1m8s\u001b[0m 21ms/step - accuracy: 0.7188 - loss: 0.7801 - val_accuracy: 0.6412 - val_loss: 1.0606\n",
      "Epoch 12/30\n",
      "\u001b[1m352/352\u001b[0m \u001b[32m━━━━━━━━━━━━━━━━━━━━\u001b[0m\u001b[37m\u001b[0m \u001b[1m0s\u001b[0m 21ms/step - accuracy: 0.7335 - loss: 0.7518\n",
      "Epoch 12: val_loss did not improve from 1.03000\n",
      "\u001b[1m352/352\u001b[0m \u001b[32m━━━━━━━━━━━━━━━━━━━━\u001b[0m\u001b[37m\u001b[0m \u001b[1m8s\u001b[0m 22ms/step - accuracy: 0.7336 - loss: 0.7518 - val_accuracy: 0.6394 - val_loss: 1.0858\n",
      "Epoch 13/30\n",
      "\u001b[1m352/352\u001b[0m \u001b[32m━━━━━━━━━━━━━━━━━━━━\u001b[0m\u001b[37m\u001b[0m \u001b[1m0s\u001b[0m 21ms/step - accuracy: 0.7459 - loss: 0.7129\n",
      "Epoch 13: val_loss did not improve from 1.03000\n",
      "\u001b[1m352/352\u001b[0m \u001b[32m━━━━━━━━━━━━━━━━━━━━\u001b[0m\u001b[37m\u001b[0m \u001b[1m10s\u001b[0m 22ms/step - accuracy: 0.7459 - loss: 0.7128 - val_accuracy: 0.6474 - val_loss: 1.0759\n",
      "Epoch 14/30\n",
      "\u001b[1m352/352\u001b[0m \u001b[32m━━━━━━━━━━━━━━━━━━━━\u001b[0m\u001b[37m\u001b[0m \u001b[1m0s\u001b[0m 21ms/step - accuracy: 0.7581 - loss: 0.6764\n",
      "Epoch 14: val_loss did not improve from 1.03000\n",
      "\u001b[1m352/352\u001b[0m \u001b[32m━━━━━━━━━━━━━━━━━━━━\u001b[0m\u001b[37m\u001b[0m \u001b[1m8s\u001b[0m 22ms/step - accuracy: 0.7581 - loss: 0.6763 - val_accuracy: 0.6480 - val_loss: 1.0817\n",
      "Epoch 15/30\n",
      "\u001b[1m352/352\u001b[0m \u001b[32m━━━━━━━━━━━━━━━━━━━━\u001b[0m\u001b[37m\u001b[0m \u001b[1m0s\u001b[0m 21ms/step - accuracy: 0.7691 - loss: 0.6446\n",
      "Epoch 15: val_loss did not improve from 1.03000\n",
      "\u001b[1m352/352\u001b[0m \u001b[32m━━━━━━━━━━━━━━━━━━━━\u001b[0m\u001b[37m\u001b[0m \u001b[1m8s\u001b[0m 22ms/step - accuracy: 0.7691 - loss: 0.6445 - val_accuracy: 0.6460 - val_loss: 1.1115\n",
      "Epoch 16/30\n",
      "\u001b[1m352/352\u001b[0m \u001b[32m━━━━━━━━━━━━━━━━━━━━\u001b[0m\u001b[37m\u001b[0m \u001b[1m0s\u001b[0m 21ms/step - accuracy: 0.7861 - loss: 0.6066\n",
      "Epoch 16: val_loss did not improve from 1.03000\n",
      "\u001b[1m352/352\u001b[0m \u001b[32m━━━━━━━━━━━━━━━━━━━━\u001b[0m\u001b[37m\u001b[0m \u001b[1m8s\u001b[0m 22ms/step - accuracy: 0.7861 - loss: 0.6066 - val_accuracy: 0.6494 - val_loss: 1.1225\n",
      "Epoch 17/30\n",
      "\u001b[1m352/352\u001b[0m \u001b[32m━━━━━━━━━━━━━━━━━━━━\u001b[0m\u001b[37m\u001b[0m \u001b[1m0s\u001b[0m 21ms/step - accuracy: 0.7941 - loss: 0.5749\n",
      "Epoch 17: val_loss did not improve from 1.03000\n",
      "\u001b[1m352/352\u001b[0m \u001b[32m━━━━━━━━━━━━━━━━━━━━\u001b[0m\u001b[37m\u001b[0m \u001b[1m8s\u001b[0m 22ms/step - accuracy: 0.7941 - loss: 0.5748 - val_accuracy: 0.6448 - val_loss: 1.1597\n",
      "Epoch 18/30\n",
      "\u001b[1m352/352\u001b[0m \u001b[32m━━━━━━━━━━━━━━━━━━━━\u001b[0m\u001b[37m\u001b[0m \u001b[1m0s\u001b[0m 21ms/step - accuracy: 0.8034 - loss: 0.5515\n",
      "Epoch 18: val_loss did not improve from 1.03000\n",
      "\u001b[1m352/352\u001b[0m \u001b[32m━━━━━━━━━━━━━━━━━━━━\u001b[0m\u001b[37m\u001b[0m \u001b[1m8s\u001b[0m 22ms/step - accuracy: 0.8035 - loss: 0.5515 - val_accuracy: 0.6432 - val_loss: 1.1841\n",
      "Epoch 19/30\n",
      "\u001b[1m352/352\u001b[0m \u001b[32m━━━━━━━━━━━━━━━━━━━━\u001b[0m\u001b[37m\u001b[0m \u001b[1m0s\u001b[0m 21ms/step - accuracy: 0.8186 - loss: 0.5107\n",
      "Epoch 19: val_loss did not improve from 1.03000\n",
      "\u001b[1m352/352\u001b[0m \u001b[32m━━━━━━━━━━━━━━━━━━━━\u001b[0m\u001b[37m\u001b[0m \u001b[1m8s\u001b[0m 22ms/step - accuracy: 0.8186 - loss: 0.5107 - val_accuracy: 0.6418 - val_loss: 1.2231\n",
      "Epoch 20/30\n",
      "\u001b[1m352/352\u001b[0m \u001b[32m━━━━━━━━━━━━━━━━━━━━\u001b[0m\u001b[37m\u001b[0m \u001b[1m0s\u001b[0m 21ms/step - accuracy: 0.8290 - loss: 0.4862\n",
      "Epoch 20: val_loss did not improve from 1.03000\n",
      "\u001b[1m352/352\u001b[0m \u001b[32m━━━━━━━━━━━━━━━━━━━━\u001b[0m\u001b[37m\u001b[0m \u001b[1m8s\u001b[0m 22ms/step - accuracy: 0.8291 - loss: 0.4862 - val_accuracy: 0.6366 - val_loss: 1.2898\n",
      "Epoch 21/30\n",
      "\u001b[1m352/352\u001b[0m \u001b[32m━━━━━━━━━━━━━━━━━━━━\u001b[0m\u001b[37m\u001b[0m \u001b[1m0s\u001b[0m 21ms/step - accuracy: 0.8364 - loss: 0.4585\n",
      "Epoch 21: val_loss did not improve from 1.03000\n",
      "\u001b[1m352/352\u001b[0m \u001b[32m━━━━━━━━━━━━━━━━━━━━\u001b[0m\u001b[37m\u001b[0m \u001b[1m8s\u001b[0m 22ms/step - accuracy: 0.8364 - loss: 0.4585 - val_accuracy: 0.6412 - val_loss: 1.2946\n",
      "Epoch 22/30\n",
      "\u001b[1m352/352\u001b[0m \u001b[32m━━━━━━━━━━━━━━━━━━━━\u001b[0m\u001b[37m\u001b[0m \u001b[1m0s\u001b[0m 21ms/step - accuracy: 0.8441 - loss: 0.4403\n",
      "Epoch 22: val_loss did not improve from 1.03000\n",
      "\u001b[1m352/352\u001b[0m \u001b[32m━━━━━━━━━━━━━━━━━━━━\u001b[0m\u001b[37m\u001b[0m \u001b[1m8s\u001b[0m 22ms/step - accuracy: 0.8441 - loss: 0.4403 - val_accuracy: 0.6436 - val_loss: 1.3161\n",
      "Epoch 23/30\n",
      "\u001b[1m352/352\u001b[0m \u001b[32m━━━━━━━━━━━━━━━━━━━━\u001b[0m\u001b[37m\u001b[0m \u001b[1m0s\u001b[0m 21ms/step - accuracy: 0.8536 - loss: 0.4099\n",
      "Epoch 23: val_loss did not improve from 1.03000\n",
      "\u001b[1m352/352\u001b[0m \u001b[32m━━━━━━━━━━━━━━━━━━━━\u001b[0m\u001b[37m\u001b[0m \u001b[1m8s\u001b[0m 22ms/step - accuracy: 0.8536 - loss: 0.4099 - val_accuracy: 0.6464 - val_loss: 1.3435\n",
      "Epoch 24/30\n",
      "\u001b[1m351/352\u001b[0m \u001b[32m━━━━━━━━━━━━━━━━━━━\u001b[0m\u001b[37m━\u001b[0m \u001b[1m0s\u001b[0m 21ms/step - accuracy: 0.8599 - loss: 0.3907\n",
      "Epoch 24: val_loss did not improve from 1.03000\n",
      "\u001b[1m352/352\u001b[0m \u001b[32m━━━━━━━━━━━━━━━━━━━━\u001b[0m\u001b[37m\u001b[0m \u001b[1m8s\u001b[0m 22ms/step - accuracy: 0.8599 - loss: 0.3907 - val_accuracy: 0.6384 - val_loss: 1.3635\n",
      "Epoch 25/30\n",
      "\u001b[1m352/352\u001b[0m \u001b[32m━━━━━━━━━━━━━━━━━━━━\u001b[0m\u001b[37m\u001b[0m \u001b[1m0s\u001b[0m 21ms/step - accuracy: 0.8741 - loss: 0.3553\n",
      "Epoch 25: val_loss did not improve from 1.03000\n",
      "\u001b[1m352/352\u001b[0m \u001b[32m━━━━━━━━━━━━━━━━━━━━\u001b[0m\u001b[37m\u001b[0m \u001b[1m8s\u001b[0m 22ms/step - accuracy: 0.8741 - loss: 0.3553 - val_accuracy: 0.6440 - val_loss: 1.4214\n",
      "Epoch 26/30\n",
      "\u001b[1m352/352\u001b[0m \u001b[32m━━━━━━━━━━━━━━━━━━━━\u001b[0m\u001b[37m\u001b[0m \u001b[1m0s\u001b[0m 21ms/step - accuracy: 0.8773 - loss: 0.3422\n",
      "Epoch 26: val_loss did not improve from 1.03000\n",
      "\u001b[1m352/352\u001b[0m \u001b[32m━━━━━━━━━━━━━━━━━━━━\u001b[0m\u001b[37m\u001b[0m \u001b[1m8s\u001b[0m 22ms/step - accuracy: 0.8773 - loss: 0.3422 - val_accuracy: 0.6368 - val_loss: 1.4532\n",
      "Epoch 27/30\n",
      "\u001b[1m352/352\u001b[0m \u001b[32m━━━━━━━━━━━━━━━━━━━━\u001b[0m\u001b[37m\u001b[0m \u001b[1m0s\u001b[0m 21ms/step - accuracy: 0.8842 - loss: 0.3227\n",
      "Epoch 27: val_loss did not improve from 1.03000\n",
      "\u001b[1m352/352\u001b[0m \u001b[32m━━━━━━━━━━━━━━━━━━━━\u001b[0m\u001b[37m\u001b[0m \u001b[1m8s\u001b[0m 21ms/step - accuracy: 0.8842 - loss: 0.3227 - val_accuracy: 0.6334 - val_loss: 1.4984\n",
      "Epoch 28/30\n",
      "\u001b[1m351/352\u001b[0m \u001b[32m━━━━━━━━━━━━━━━━━━━\u001b[0m\u001b[37m━\u001b[0m \u001b[1m0s\u001b[0m 21ms/step - accuracy: 0.8909 - loss: 0.3027\n",
      "Epoch 28: val_loss did not improve from 1.03000\n",
      "\u001b[1m352/352\u001b[0m \u001b[32m━━━━━━━━━━━━━━━━━━━━\u001b[0m\u001b[37m\u001b[0m \u001b[1m8s\u001b[0m 22ms/step - accuracy: 0.8909 - loss: 0.3027 - val_accuracy: 0.6318 - val_loss: 1.5248\n",
      "Epoch 29/30\n",
      "\u001b[1m351/352\u001b[0m \u001b[32m━━━━━━━━━━━━━━━━━━━\u001b[0m\u001b[37m━\u001b[0m \u001b[1m0s\u001b[0m 21ms/step - accuracy: 0.8976 - loss: 0.2840\n",
      "Epoch 29: val_loss did not improve from 1.03000\n",
      "\u001b[1m352/352\u001b[0m \u001b[32m━━━━━━━━━━━━━━━━━━━━\u001b[0m\u001b[37m\u001b[0m \u001b[1m8s\u001b[0m 22ms/step - accuracy: 0.8976 - loss: 0.2840 - val_accuracy: 0.6304 - val_loss: 1.6130\n",
      "Epoch 30/30\n",
      "\u001b[1m352/352\u001b[0m \u001b[32m━━━━━━━━━━━━━━━━━━━━\u001b[0m\u001b[37m\u001b[0m \u001b[1m0s\u001b[0m 21ms/step - accuracy: 0.8991 - loss: 0.2807\n",
      "Epoch 30: val_loss did not improve from 1.03000\n",
      "\u001b[1m352/352\u001b[0m \u001b[32m━━━━━━━━━━━━━━━━━━━━\u001b[0m\u001b[37m\u001b[0m \u001b[1m8s\u001b[0m 22ms/step - accuracy: 0.8992 - loss: 0.2807 - val_accuracy: 0.6330 - val_loss: 1.6445\n",
      "Total training time for 30 epochs: 263.43 seconds (4.39 minutes)\n"
     ]
    }
   ],
   "source": [
    "import time\n",
    "\n",
    "start_time = time.time()\n",
    "\n",
    "# train\n",
    "vit_cifar10_model.fit(\n",
    "    train_set,\n",
    "    validation_data=valid_set,\n",
    "    epochs=30,\n",
    "    callbacks=[checkpoint_callback]\n",
    ")\n",
    "\n",
    "end_time = time.time()\n",
    "total_time = end_time - start_time\n",
    "print(f\"Total training time for 30 epochs: {total_time:.2f} seconds ({total_time / 60:.2f} minutes)\")"
   ]
  }
 ],
 "metadata": {
  "kernelspec": {
   "display_name": "saturn (Python 3)",
   "language": "python",
   "name": "python3"
  },
  "language_info": {
   "codemirror_mode": {
    "name": "ipython",
    "version": 3
   },
   "file_extension": ".py",
   "mimetype": "text/x-python",
   "name": "python",
   "nbconvert_exporter": "python",
   "pygments_lexer": "ipython3",
   "version": "3.12.7"
  }
 },
 "nbformat": 4,
 "nbformat_minor": 5
}
